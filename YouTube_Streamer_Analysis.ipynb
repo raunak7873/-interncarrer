{
 "cells": [
  {
   "cell_type": "markdown",
   "id": "ba8012cc",
   "metadata": {},
   "source": [
    "# Importing Libraries"
   ]
  },
  {
   "cell_type": "code",
   "execution_count": 2,
   "id": "a20a02c1",
   "metadata": {},
   "outputs": [],
   "source": [
    "import pandas as pd \n",
    "import matplotlib.pyplot as plt\n",
    "import seaborn as sns"
   ]
  },
  {
   "cell_type": "code",
   "execution_count": 3,
   "id": "87a09c8c",
   "metadata": {},
   "outputs": [
    {
     "data": {
      "text/html": [
       "<div>\n",
       "<style scoped>\n",
       "    .dataframe tbody tr th:only-of-type {\n",
       "        vertical-align: middle;\n",
       "    }\n",
       "\n",
       "    .dataframe tbody tr th {\n",
       "        vertical-align: top;\n",
       "    }\n",
       "\n",
       "    .dataframe thead th {\n",
       "        text-align: right;\n",
       "    }\n",
       "</style>\n",
       "<table border=\"1\" class=\"dataframe\">\n",
       "  <thead>\n",
       "    <tr style=\"text-align: right;\">\n",
       "      <th></th>\n",
       "      <th>Rank</th>\n",
       "      <th>Username</th>\n",
       "      <th>Categories</th>\n",
       "      <th>Suscribers</th>\n",
       "      <th>Country</th>\n",
       "      <th>Visits</th>\n",
       "      <th>Likes</th>\n",
       "      <th>Comments</th>\n",
       "      <th>Links</th>\n",
       "    </tr>\n",
       "  </thead>\n",
       "  <tbody>\n",
       "    <tr>\n",
       "      <th>0</th>\n",
       "      <td>1</td>\n",
       "      <td>tseries</td>\n",
       "      <td>Música y baile</td>\n",
       "      <td>249500000.0</td>\n",
       "      <td>India</td>\n",
       "      <td>86200.0</td>\n",
       "      <td>2700.0</td>\n",
       "      <td>78.0</td>\n",
       "      <td>http://youtube.com/channel/UCq-Fj5jknLsUf-MWSy...</td>\n",
       "    </tr>\n",
       "    <tr>\n",
       "      <th>1</th>\n",
       "      <td>2</td>\n",
       "      <td>MrBeast</td>\n",
       "      <td>Videojuegos, Humor</td>\n",
       "      <td>183500000.0</td>\n",
       "      <td>Estados Unidos</td>\n",
       "      <td>117400000.0</td>\n",
       "      <td>5300000.0</td>\n",
       "      <td>18500.0</td>\n",
       "      <td>http://youtube.com/channel/UCX6OQ3DkcsbYNE6H8u...</td>\n",
       "    </tr>\n",
       "    <tr>\n",
       "      <th>2</th>\n",
       "      <td>3</td>\n",
       "      <td>CoComelon</td>\n",
       "      <td>Educación</td>\n",
       "      <td>165500000.0</td>\n",
       "      <td>Unknown</td>\n",
       "      <td>7000000.0</td>\n",
       "      <td>24700.0</td>\n",
       "      <td>0.0</td>\n",
       "      <td>http://youtube.com/channel/UCbCmjCuTUZos6Inko4...</td>\n",
       "    </tr>\n",
       "    <tr>\n",
       "      <th>3</th>\n",
       "      <td>4</td>\n",
       "      <td>SETIndia</td>\n",
       "      <td>NaN</td>\n",
       "      <td>162600000.0</td>\n",
       "      <td>India</td>\n",
       "      <td>15600.0</td>\n",
       "      <td>166.0</td>\n",
       "      <td>9.0</td>\n",
       "      <td>http://youtube.com/channel/UCpEhnqL0y41EpW2TvW...</td>\n",
       "    </tr>\n",
       "    <tr>\n",
       "      <th>4</th>\n",
       "      <td>5</td>\n",
       "      <td>KidsDianaShow</td>\n",
       "      <td>Animación, Juguetes</td>\n",
       "      <td>113500000.0</td>\n",
       "      <td>Unknown</td>\n",
       "      <td>3900000.0</td>\n",
       "      <td>12400.0</td>\n",
       "      <td>0.0</td>\n",
       "      <td>http://youtube.com/channel/UCk8GzjMOrta8yxDcKf...</td>\n",
       "    </tr>\n",
       "    <tr>\n",
       "      <th>...</th>\n",
       "      <td>...</td>\n",
       "      <td>...</td>\n",
       "      <td>...</td>\n",
       "      <td>...</td>\n",
       "      <td>...</td>\n",
       "      <td>...</td>\n",
       "      <td>...</td>\n",
       "      <td>...</td>\n",
       "      <td>...</td>\n",
       "    </tr>\n",
       "    <tr>\n",
       "      <th>995</th>\n",
       "      <td>996</td>\n",
       "      <td>hamzymukbang</td>\n",
       "      <td>NaN</td>\n",
       "      <td>11700000.0</td>\n",
       "      <td>Estados Unidos</td>\n",
       "      <td>397400.0</td>\n",
       "      <td>14000.0</td>\n",
       "      <td>124.0</td>\n",
       "      <td>http://youtube.com/channel/UCPKNKldggioffXPkSm...</td>\n",
       "    </tr>\n",
       "    <tr>\n",
       "      <th>996</th>\n",
       "      <td>997</td>\n",
       "      <td>Adaahqueen</td>\n",
       "      <td>NaN</td>\n",
       "      <td>11700000.0</td>\n",
       "      <td>India</td>\n",
       "      <td>1100000.0</td>\n",
       "      <td>92500.0</td>\n",
       "      <td>164.0</td>\n",
       "      <td>http://youtube.com/channel/UCk3fFpqI5kDMf__mUP...</td>\n",
       "    </tr>\n",
       "    <tr>\n",
       "      <th>997</th>\n",
       "      <td>998</td>\n",
       "      <td>LittleAngelIndonesia</td>\n",
       "      <td>Música y baile</td>\n",
       "      <td>11700000.0</td>\n",
       "      <td>Unknown</td>\n",
       "      <td>211400.0</td>\n",
       "      <td>745.0</td>\n",
       "      <td>0.0</td>\n",
       "      <td>http://youtube.com/channel/UCdrHrQf0o0TO8YDntX...</td>\n",
       "    </tr>\n",
       "    <tr>\n",
       "      <th>998</th>\n",
       "      <td>999</td>\n",
       "      <td>PenMultiplex</td>\n",
       "      <td>NaN</td>\n",
       "      <td>11700000.0</td>\n",
       "      <td>India</td>\n",
       "      <td>14000.0</td>\n",
       "      <td>81.0</td>\n",
       "      <td>1.0</td>\n",
       "      <td>http://youtube.com/channel/UCObyBrdrtQ20BU9PxH...</td>\n",
       "    </tr>\n",
       "    <tr>\n",
       "      <th>999</th>\n",
       "      <td>1000</td>\n",
       "      <td>OneindiaHindi</td>\n",
       "      <td>Noticias y Política</td>\n",
       "      <td>11700000.0</td>\n",
       "      <td>India</td>\n",
       "      <td>2200.0</td>\n",
       "      <td>31.0</td>\n",
       "      <td>1.0</td>\n",
       "      <td>http://youtube.com/channel/UCOjgc1p2hJ4GZi6pQQ...</td>\n",
       "    </tr>\n",
       "  </tbody>\n",
       "</table>\n",
       "<p>1000 rows × 9 columns</p>\n",
       "</div>"
      ],
      "text/plain": [
       "     Rank              Username           Categories   Suscribers  \\\n",
       "0       1               tseries       Música y baile  249500000.0   \n",
       "1       2               MrBeast   Videojuegos, Humor  183500000.0   \n",
       "2       3             CoComelon            Educación  165500000.0   \n",
       "3       4              SETIndia                  NaN  162600000.0   \n",
       "4       5         KidsDianaShow  Animación, Juguetes  113500000.0   \n",
       "..    ...                   ...                  ...          ...   \n",
       "995   996          hamzymukbang                  NaN   11700000.0   \n",
       "996   997            Adaahqueen                  NaN   11700000.0   \n",
       "997   998  LittleAngelIndonesia       Música y baile   11700000.0   \n",
       "998   999          PenMultiplex                  NaN   11700000.0   \n",
       "999  1000         OneindiaHindi  Noticias y Política   11700000.0   \n",
       "\n",
       "            Country       Visits      Likes  Comments  \\\n",
       "0             India      86200.0     2700.0      78.0   \n",
       "1    Estados Unidos  117400000.0  5300000.0   18500.0   \n",
       "2           Unknown    7000000.0    24700.0       0.0   \n",
       "3             India      15600.0      166.0       9.0   \n",
       "4           Unknown    3900000.0    12400.0       0.0   \n",
       "..              ...          ...        ...       ...   \n",
       "995  Estados Unidos     397400.0    14000.0     124.0   \n",
       "996           India    1100000.0    92500.0     164.0   \n",
       "997         Unknown     211400.0      745.0       0.0   \n",
       "998           India      14000.0       81.0       1.0   \n",
       "999           India       2200.0       31.0       1.0   \n",
       "\n",
       "                                                 Links  \n",
       "0    http://youtube.com/channel/UCq-Fj5jknLsUf-MWSy...  \n",
       "1    http://youtube.com/channel/UCX6OQ3DkcsbYNE6H8u...  \n",
       "2    http://youtube.com/channel/UCbCmjCuTUZos6Inko4...  \n",
       "3    http://youtube.com/channel/UCpEhnqL0y41EpW2TvW...  \n",
       "4    http://youtube.com/channel/UCk8GzjMOrta8yxDcKf...  \n",
       "..                                                 ...  \n",
       "995  http://youtube.com/channel/UCPKNKldggioffXPkSm...  \n",
       "996  http://youtube.com/channel/UCk3fFpqI5kDMf__mUP...  \n",
       "997  http://youtube.com/channel/UCdrHrQf0o0TO8YDntX...  \n",
       "998  http://youtube.com/channel/UCObyBrdrtQ20BU9PxH...  \n",
       "999  http://youtube.com/channel/UCOjgc1p2hJ4GZi6pQQ...  \n",
       "\n",
       "[1000 rows x 9 columns]"
      ]
     },
     "execution_count": 3,
     "metadata": {},
     "output_type": "execute_result"
    }
   ],
   "source": [
    "#load Data\n",
    "df=pd.read_csv('youtubers_df.csv')\n",
    "df"
   ]
  },
  {
   "cell_type": "code",
   "execution_count": 4,
   "id": "47b8d8eb",
   "metadata": {},
   "outputs": [
    {
     "data": {
      "text/html": [
       "<div>\n",
       "<style scoped>\n",
       "    .dataframe tbody tr th:only-of-type {\n",
       "        vertical-align: middle;\n",
       "    }\n",
       "\n",
       "    .dataframe tbody tr th {\n",
       "        vertical-align: top;\n",
       "    }\n",
       "\n",
       "    .dataframe thead th {\n",
       "        text-align: right;\n",
       "    }\n",
       "</style>\n",
       "<table border=\"1\" class=\"dataframe\">\n",
       "  <thead>\n",
       "    <tr style=\"text-align: right;\">\n",
       "      <th></th>\n",
       "      <th>Username</th>\n",
       "      <th>Categories</th>\n",
       "      <th>Suscribers</th>\n",
       "      <th>Country</th>\n",
       "      <th>Visits</th>\n",
       "      <th>Likes</th>\n",
       "      <th>Comments</th>\n",
       "      <th>Links</th>\n",
       "    </tr>\n",
       "    <tr>\n",
       "      <th>Rank</th>\n",
       "      <th></th>\n",
       "      <th></th>\n",
       "      <th></th>\n",
       "      <th></th>\n",
       "      <th></th>\n",
       "      <th></th>\n",
       "      <th></th>\n",
       "      <th></th>\n",
       "    </tr>\n",
       "  </thead>\n",
       "  <tbody>\n",
       "    <tr>\n",
       "      <th>1</th>\n",
       "      <td>tseries</td>\n",
       "      <td>Música y baile</td>\n",
       "      <td>249500000.0</td>\n",
       "      <td>India</td>\n",
       "      <td>86200.0</td>\n",
       "      <td>2700.0</td>\n",
       "      <td>78.0</td>\n",
       "      <td>http://youtube.com/channel/UCq-Fj5jknLsUf-MWSy...</td>\n",
       "    </tr>\n",
       "    <tr>\n",
       "      <th>2</th>\n",
       "      <td>MrBeast</td>\n",
       "      <td>Videojuegos, Humor</td>\n",
       "      <td>183500000.0</td>\n",
       "      <td>Estados Unidos</td>\n",
       "      <td>117400000.0</td>\n",
       "      <td>5300000.0</td>\n",
       "      <td>18500.0</td>\n",
       "      <td>http://youtube.com/channel/UCX6OQ3DkcsbYNE6H8u...</td>\n",
       "    </tr>\n",
       "    <tr>\n",
       "      <th>3</th>\n",
       "      <td>CoComelon</td>\n",
       "      <td>Educación</td>\n",
       "      <td>165500000.0</td>\n",
       "      <td>Unknown</td>\n",
       "      <td>7000000.0</td>\n",
       "      <td>24700.0</td>\n",
       "      <td>0.0</td>\n",
       "      <td>http://youtube.com/channel/UCbCmjCuTUZos6Inko4...</td>\n",
       "    </tr>\n",
       "    <tr>\n",
       "      <th>4</th>\n",
       "      <td>SETIndia</td>\n",
       "      <td>NaN</td>\n",
       "      <td>162600000.0</td>\n",
       "      <td>India</td>\n",
       "      <td>15600.0</td>\n",
       "      <td>166.0</td>\n",
       "      <td>9.0</td>\n",
       "      <td>http://youtube.com/channel/UCpEhnqL0y41EpW2TvW...</td>\n",
       "    </tr>\n",
       "    <tr>\n",
       "      <th>5</th>\n",
       "      <td>KidsDianaShow</td>\n",
       "      <td>Animación, Juguetes</td>\n",
       "      <td>113500000.0</td>\n",
       "      <td>Unknown</td>\n",
       "      <td>3900000.0</td>\n",
       "      <td>12400.0</td>\n",
       "      <td>0.0</td>\n",
       "      <td>http://youtube.com/channel/UCk8GzjMOrta8yxDcKf...</td>\n",
       "    </tr>\n",
       "  </tbody>\n",
       "</table>\n",
       "</div>"
      ],
      "text/plain": [
       "           Username           Categories   Suscribers         Country  \\\n",
       "Rank                                                                    \n",
       "1           tseries       Música y baile  249500000.0           India   \n",
       "2           MrBeast   Videojuegos, Humor  183500000.0  Estados Unidos   \n",
       "3         CoComelon            Educación  165500000.0         Unknown   \n",
       "4          SETIndia                  NaN  162600000.0           India   \n",
       "5     KidsDianaShow  Animación, Juguetes  113500000.0         Unknown   \n",
       "\n",
       "           Visits      Likes  Comments  \\\n",
       "Rank                                     \n",
       "1         86200.0     2700.0      78.0   \n",
       "2     117400000.0  5300000.0   18500.0   \n",
       "3       7000000.0    24700.0       0.0   \n",
       "4         15600.0      166.0       9.0   \n",
       "5       3900000.0    12400.0       0.0   \n",
       "\n",
       "                                                  Links  \n",
       "Rank                                                     \n",
       "1     http://youtube.com/channel/UCq-Fj5jknLsUf-MWSy...  \n",
       "2     http://youtube.com/channel/UCX6OQ3DkcsbYNE6H8u...  \n",
       "3     http://youtube.com/channel/UCbCmjCuTUZos6Inko4...  \n",
       "4     http://youtube.com/channel/UCpEhnqL0y41EpW2TvW...  \n",
       "5     http://youtube.com/channel/UCk8GzjMOrta8yxDcKf...  "
      ]
     },
     "execution_count": 4,
     "metadata": {},
     "output_type": "execute_result"
    }
   ],
   "source": [
    "df.set_index('Rank',inplace=True)\n",
    "df.head()"
   ]
  },
  {
   "cell_type": "markdown",
   "id": "1a0f4213",
   "metadata": {},
   "source": [
    "# 1.Explorind Data"
   ]
  },
  {
   "cell_type": "code",
   "execution_count": 5,
   "id": "78765381",
   "metadata": {},
   "outputs": [
    {
     "name": "stdout",
     "output_type": "stream",
     "text": [
      "<class 'pandas.core.frame.DataFrame'>\n",
      "Index: 1000 entries, 1 to 1000\n",
      "Data columns (total 8 columns):\n",
      " #   Column      Non-Null Count  Dtype  \n",
      "---  ------      --------------  -----  \n",
      " 0   Username    1000 non-null   object \n",
      " 1   Categories  694 non-null    object \n",
      " 2   Suscribers  1000 non-null   float64\n",
      " 3   Country     1000 non-null   object \n",
      " 4   Visits      1000 non-null   float64\n",
      " 5   Likes       1000 non-null   float64\n",
      " 6   Comments    1000 non-null   float64\n",
      " 7   Links       1000 non-null   object \n",
      "dtypes: float64(4), object(4)\n",
      "memory usage: 70.3+ KB\n"
     ]
    }
   ],
   "source": [
    "df.info()"
   ]
  },
  {
   "cell_type": "code",
   "execution_count": 6,
   "id": "65961182",
   "metadata": {},
   "outputs": [
    {
     "data": {
      "text/plain": [
       "Index(['Username', 'Categories', 'Suscribers', 'Country', 'Visits', 'Likes',\n",
       "       'Comments', 'Links'],\n",
       "      dtype='object')"
      ]
     },
     "execution_count": 6,
     "metadata": {},
     "output_type": "execute_result"
    }
   ],
   "source": [
    "df.columns"
   ]
  },
  {
   "cell_type": "code",
   "execution_count": 7,
   "id": "c6b81f2d",
   "metadata": {},
   "outputs": [
    {
     "data": {
      "text/plain": [
       "Username       object\n",
       "Categories     object\n",
       "Suscribers    float64\n",
       "Country        object\n",
       "Visits        float64\n",
       "Likes         float64\n",
       "Comments      float64\n",
       "Links          object\n",
       "dtype: object"
      ]
     },
     "execution_count": 7,
     "metadata": {},
     "output_type": "execute_result"
    }
   ],
   "source": [
    "df.dtypes"
   ]
  },
  {
   "cell_type": "code",
   "execution_count": null,
   "id": "f7b26618",
   "metadata": {},
   "outputs": [],
   "source": []
  },
  {
   "cell_type": "markdown",
   "id": "ea743ffb",
   "metadata": {},
   "source": [
    "# changing data types"
   ]
  },
  {
   "cell_type": "code",
   "execution_count": 8,
   "id": "c4c6a0da",
   "metadata": {},
   "outputs": [],
   "source": [
    "df[['Suscribers','Visits','Like','Comments']] = df[['Suscribers','Visits','Likes','Comments']]"
   ]
  },
  {
   "cell_type": "code",
   "execution_count": 9,
   "id": "347742ff",
   "metadata": {},
   "outputs": [
    {
     "data": {
      "text/plain": [
       "Username       object\n",
       "Categories     object\n",
       "Suscribers    float64\n",
       "Country        object\n",
       "Visits        float64\n",
       "Likes         float64\n",
       "Comments      float64\n",
       "Links          object\n",
       "Like          float64\n",
       "dtype: object"
      ]
     },
     "execution_count": 9,
     "metadata": {},
     "output_type": "execute_result"
    }
   ],
   "source": [
    "df.dtypes"
   ]
  },
  {
   "cell_type": "code",
   "execution_count": 10,
   "id": "6c545037",
   "metadata": {},
   "outputs": [],
   "source": [
    "df.rename(columns={'Suscribers':'Subscribers'},inplace=True)\n",
    "df.rename(columns={'Username':'Streamer'},inplace=True)"
   ]
  },
  {
   "cell_type": "code",
   "execution_count": 11,
   "id": "3d8549f9",
   "metadata": {},
   "outputs": [
    {
     "data": {
      "text/plain": [
       "Streamer         0\n",
       "Categories     306\n",
       "Subscribers      0\n",
       "Country          0\n",
       "Visits           0\n",
       "Likes            0\n",
       "Comments         0\n",
       "Links            0\n",
       "Like             0\n",
       "dtype: int64"
      ]
     },
     "execution_count": 11,
     "metadata": {},
     "output_type": "execute_result"
    }
   ],
   "source": [
    "df.isnull().sum()"
   ]
  },
  {
   "cell_type": "markdown",
   "id": "cdfdab69",
   "metadata": {},
   "source": [
    "# Replaceing null values of[Categories] with most(most repeated values)"
   ]
  },
  {
   "cell_type": "code",
   "execution_count": 12,
   "id": "ec31c977",
   "metadata": {},
   "outputs": [],
   "source": [
    "df['Categories'].fillna(df['Categories'].mode()[0],inplace=True)"
   ]
  },
  {
   "cell_type": "code",
   "execution_count": 13,
   "id": "aaaf393f",
   "metadata": {},
   "outputs": [
    {
     "data": {
      "text/plain": [
       "Streamer       0\n",
       "Categories     0\n",
       "Subscribers    0\n",
       "Country        0\n",
       "Visits         0\n",
       "Likes          0\n",
       "Comments       0\n",
       "Links          0\n",
       "Like           0\n",
       "dtype: int64"
      ]
     },
     "execution_count": 13,
     "metadata": {},
     "output_type": "execute_result"
    }
   ],
   "source": [
    "df.isnull().sum()"
   ]
  },
  {
   "cell_type": "code",
   "execution_count": 14,
   "id": "9f9a29d4",
   "metadata": {},
   "outputs": [
    {
     "data": {
      "text/plain": [
       "<Axes: >"
      ]
     },
     "execution_count": 14,
     "metadata": {},
     "output_type": "execute_result"
    },
    {
     "data": {
      "image/png": "[encoded data removed]",
      "text/plain": [
       "<Figure size 640x480 with 1 Axes>"
      ]
     },
     "metadata": {},
     "output_type": "display_data"
    }
   ],
   "source": [
    "sns.boxplot(data=df)"
   ]
  },
  {
   "cell_type": "markdown",
   "id": "1725dd6f",
   "metadata": {},
   "source": [
    "# Trends Analysis"
   ]
  },
  {
   "cell_type": "code",
   "execution_count": 15,
   "id": "820f70c3",
   "metadata": {},
   "outputs": [
    {
     "data": {
      "text/html": [
       "<div>\n",
       "<style scoped>\n",
       "    .dataframe tbody tr th:only-of-type {\n",
       "        vertical-align: middle;\n",
       "    }\n",
       "\n",
       "    .dataframe tbody tr th {\n",
       "        vertical-align: top;\n",
       "    }\n",
       "\n",
       "    .dataframe thead th {\n",
       "        text-align: right;\n",
       "    }\n",
       "</style>\n",
       "<table border=\"1\" class=\"dataframe\">\n",
       "  <thead>\n",
       "    <tr style=\"text-align: right;\">\n",
       "      <th></th>\n",
       "      <th>Streamer</th>\n",
       "      <th>Categories</th>\n",
       "      <th>Subscribers</th>\n",
       "      <th>Country</th>\n",
       "      <th>Visits</th>\n",
       "      <th>Likes</th>\n",
       "      <th>Comments</th>\n",
       "      <th>Links</th>\n",
       "      <th>Like</th>\n",
       "    </tr>\n",
       "    <tr>\n",
       "      <th>Rank</th>\n",
       "      <th></th>\n",
       "      <th></th>\n",
       "      <th></th>\n",
       "      <th></th>\n",
       "      <th></th>\n",
       "      <th></th>\n",
       "      <th></th>\n",
       "      <th></th>\n",
       "      <th></th>\n",
       "    </tr>\n",
       "  </thead>\n",
       "  <tbody>\n",
       "    <tr>\n",
       "      <th>1</th>\n",
       "      <td>tseries</td>\n",
       "      <td>Música y baile</td>\n",
       "      <td>249500000.0</td>\n",
       "      <td>India</td>\n",
       "      <td>86200.0</td>\n",
       "      <td>2700.0</td>\n",
       "      <td>78.0</td>\n",
       "      <td>http://youtube.com/channel/UCq-Fj5jknLsUf-MWSy...</td>\n",
       "      <td>2700.0</td>\n",
       "    </tr>\n",
       "    <tr>\n",
       "      <th>2</th>\n",
       "      <td>MrBeast</td>\n",
       "      <td>Videojuegos, Humor</td>\n",
       "      <td>183500000.0</td>\n",
       "      <td>Estados Unidos</td>\n",
       "      <td>117400000.0</td>\n",
       "      <td>5300000.0</td>\n",
       "      <td>18500.0</td>\n",
       "      <td>http://youtube.com/channel/UCX6OQ3DkcsbYNE6H8u...</td>\n",
       "      <td>5300000.0</td>\n",
       "    </tr>\n",
       "    <tr>\n",
       "      <th>3</th>\n",
       "      <td>CoComelon</td>\n",
       "      <td>Educación</td>\n",
       "      <td>165500000.0</td>\n",
       "      <td>Unknown</td>\n",
       "      <td>7000000.0</td>\n",
       "      <td>24700.0</td>\n",
       "      <td>0.0</td>\n",
       "      <td>http://youtube.com/channel/UCbCmjCuTUZos6Inko4...</td>\n",
       "      <td>24700.0</td>\n",
       "    </tr>\n",
       "    <tr>\n",
       "      <th>4</th>\n",
       "      <td>SETIndia</td>\n",
       "      <td>Música y baile</td>\n",
       "      <td>162600000.0</td>\n",
       "      <td>India</td>\n",
       "      <td>15600.0</td>\n",
       "      <td>166.0</td>\n",
       "      <td>9.0</td>\n",
       "      <td>http://youtube.com/channel/UCpEhnqL0y41EpW2TvW...</td>\n",
       "      <td>166.0</td>\n",
       "    </tr>\n",
       "    <tr>\n",
       "      <th>5</th>\n",
       "      <td>KidsDianaShow</td>\n",
       "      <td>Animación, Juguetes</td>\n",
       "      <td>113500000.0</td>\n",
       "      <td>Unknown</td>\n",
       "      <td>3900000.0</td>\n",
       "      <td>12400.0</td>\n",
       "      <td>0.0</td>\n",
       "      <td>http://youtube.com/channel/UCk8GzjMOrta8yxDcKf...</td>\n",
       "      <td>12400.0</td>\n",
       "    </tr>\n",
       "  </tbody>\n",
       "</table>\n",
       "</div>"
      ],
      "text/plain": [
       "           Streamer           Categories  Subscribers         Country  \\\n",
       "Rank                                                                    \n",
       "1           tseries       Música y baile  249500000.0           India   \n",
       "2           MrBeast   Videojuegos, Humor  183500000.0  Estados Unidos   \n",
       "3         CoComelon            Educación  165500000.0         Unknown   \n",
       "4          SETIndia       Música y baile  162600000.0           India   \n",
       "5     KidsDianaShow  Animación, Juguetes  113500000.0         Unknown   \n",
       "\n",
       "           Visits      Likes  Comments  \\\n",
       "Rank                                     \n",
       "1         86200.0     2700.0      78.0   \n",
       "2     117400000.0  5300000.0   18500.0   \n",
       "3       7000000.0    24700.0       0.0   \n",
       "4         15600.0      166.0       9.0   \n",
       "5       3900000.0    12400.0       0.0   \n",
       "\n",
       "                                                  Links       Like  \n",
       "Rank                                                                \n",
       "1     http://youtube.com/channel/UCq-Fj5jknLsUf-MWSy...     2700.0  \n",
       "2     http://youtube.com/channel/UCX6OQ3DkcsbYNE6H8u...  5300000.0  \n",
       "3     http://youtube.com/channel/UCbCmjCuTUZos6Inko4...    24700.0  \n",
       "4     http://youtube.com/channel/UCpEhnqL0y41EpW2TvW...      166.0  \n",
       "5     http://youtube.com/channel/UCk8GzjMOrta8yxDcKf...    12400.0  "
      ]
     },
     "execution_count": 15,
     "metadata": {},
     "output_type": "execute_result"
    }
   ],
   "source": [
    "df.head()"
   ]
  },
  {
   "cell_type": "markdown",
   "id": "590d6eca",
   "metadata": {},
   "source": [
    "# Top 10 Youtube Streamers with Subscribers "
   ]
  },
  {
   "cell_type": "code",
   "execution_count": 18,
   "id": "7f6d9826",
   "metadata": {},
   "outputs": [
    {
     "data": {
      "text/plain": [
       "Streamer\n",
       "tseries               249500000.0\n",
       "MrBeast               183500000.0\n",
       "CoComelon             165500000.0\n",
       "SETIndia              162600000.0\n",
       "KidsDianaShow         113500000.0\n",
       "PewDiePie             111500000.0\n",
       "LikeNastyaofficial    107500000.0\n",
       "VladandNiki           101400000.0\n",
       "zeemusiccompany        99700000.0\n",
       "WWE                    97200000.0\n",
       "Name: Subscribers, dtype: float64"
      ]
     },
     "execution_count": 18,
     "metadata": {},
     "output_type": "execute_result"
    }
   ],
   "source": [
    "df.groupby('Streamer')['Subscribers'].sum().sort_values(ascending=False).head(10)"
   ]
  },
  {
   "cell_type": "markdown",
   "id": "2e1c2135",
   "metadata": {},
   "source": [
    "# Top 10 Youtube Streamers with Views"
   ]
  },
  {
   "cell_type": "code",
   "execution_count": 38,
   "id": "01681b85",
   "metadata": {},
   "outputs": [
    {
     "data": {
      "text/plain": [
       "Streamer\n",
       "MrBeast                  117400000.0\n",
       "MrBeast2                  83100000.0\n",
       "DaFuqBoom                 52700000.0\n",
       "VillageCookingChannel     21500000.0\n",
       "BeastPhilanthropy         21500000.0\n",
       "jaanvipatel               19100000.0\n",
       "_vector_                  15400000.0\n",
       "dojacat                   13600000.0\n",
       "alfredolarin              12900000.0\n",
       "NickPro                   12200000.0\n",
       "Name: Visits, dtype: float64"
      ]
     },
     "execution_count": 38,
     "metadata": {},
     "output_type": "execute_result"
    }
   ],
   "source": [
    "df.groupby('Streamer')['Visits'].sum().sort_values(ascending=False).head(10)"
   ]
  },
  {
   "cell_type": "markdown",
   "id": "38a8782a",
   "metadata": {},
   "source": [
    "# Top 15 Most popular Categories"
   ]
  },
  {
   "cell_type": "code",
   "execution_count": 41,
   "id": "4d32e618",
   "metadata": {},
   "outputs": [
    {
     "data": {
      "text/plain": [
       "Categories\n",
       "Música y baile               466\n",
       "Películas, Animación          61\n",
       "Música y baile, Películas     41\n",
       "Vlogs diarios                 37\n",
       "Noticias y Política           36\n",
       "Películas, Humor              34\n",
       "Animación, Videojuegos        34\n",
       "Animación, Juguetes           29\n",
       "Animación, Humor              27\n",
       "Películas                     24\n",
       "Educación                     24\n",
       "Animación                     22\n",
       "Videojuegos                   19\n",
       "Videojuegos, Humor            17\n",
       "Música y baile, Animación     16\n",
       "Name: count, dtype: int64"
      ]
     },
     "execution_count": 41,
     "metadata": {},
     "output_type": "execute_result"
    }
   ],
   "source": [
    "df['Categories'].value_counts().sort_values(ascending=False).head(15)"
   ]
  },
  {
   "cell_type": "markdown",
   "id": "6d215841",
   "metadata": {},
   "source": [
    "# Correlation between no of subscribers,like,comments"
   ]
  },
  {
   "cell_type": "code",
   "execution_count": 43,
   "id": "2998f362",
   "metadata": {},
   "outputs": [
    {
     "data": {
      "text/html": [
       "<div>\n",
       "<style scoped>\n",
       "    .dataframe tbody tr th:only-of-type {\n",
       "        vertical-align: middle;\n",
       "    }\n",
       "\n",
       "    .dataframe tbody tr th {\n",
       "        vertical-align: top;\n",
       "    }\n",
       "\n",
       "    .dataframe thead th {\n",
       "        text-align: right;\n",
       "    }\n",
       "</style>\n",
       "<table border=\"1\" class=\"dataframe\">\n",
       "  <thead>\n",
       "    <tr style=\"text-align: right;\">\n",
       "      <th></th>\n",
       "      <th>Subscribers</th>\n",
       "      <th>Likes</th>\n",
       "      <th>Comments</th>\n",
       "    </tr>\n",
       "  </thead>\n",
       "  <tbody>\n",
       "    <tr>\n",
       "      <th>Subscribers</th>\n",
       "      <td>1.000000</td>\n",
       "      <td>0.211639</td>\n",
       "      <td>0.036350</td>\n",
       "    </tr>\n",
       "    <tr>\n",
       "      <th>Likes</th>\n",
       "      <td>0.211639</td>\n",
       "      <td>1.000000</td>\n",
       "      <td>0.325911</td>\n",
       "    </tr>\n",
       "    <tr>\n",
       "      <th>Comments</th>\n",
       "      <td>0.036350</td>\n",
       "      <td>0.325911</td>\n",
       "      <td>1.000000</td>\n",
       "    </tr>\n",
       "  </tbody>\n",
       "</table>\n",
       "</div>"
      ],
      "text/plain": [
       "             Subscribers     Likes  Comments\n",
       "Subscribers     1.000000  0.211639  0.036350\n",
       "Likes           0.211639  1.000000  0.325911\n",
       "Comments        0.036350  0.325911  1.000000"
      ]
     },
     "execution_count": 43,
     "metadata": {},
     "output_type": "execute_result"
    }
   ],
   "source": [
    "correlation_matrix = df[['Subscribers','Likes','Comments']].corr()\n",
    "correlation_matrix"
   ]
  },
  {
   "cell_type": "markdown",
   "id": "cfd97fb0",
   "metadata": {},
   "source": [
    "# Distribution of streamers audiences by country,category"
   ]
  },
  {
   "cell_type": "code",
   "execution_count": 45,
   "id": "6127347c",
   "metadata": {},
   "outputs": [
    {
     "data": {
      "text/plain": [
       "Country         Streamer            Categories            \n",
       "India           tseries             Música y baile            249500000.0\n",
       "Estados Unidos  MrBeast             Videojuegos, Humor        183500000.0\n",
       "Unknown         CoComelon           Educación                 165500000.0\n",
       "India           SETIndia            Música y baile            162600000.0\n",
       "Unknown         KidsDianaShow       Animación, Juguetes       113500000.0\n",
       "Estados Unidos  PewDiePie           Películas, Videojuegos    111500000.0\n",
       "Unknown         LikeNastyaofficial  Juguetes                  107500000.0\n",
       "                VladandNiki         Animación, Juguetes       101400000.0\n",
       "India           zeemusiccompany     Música y baile             99700000.0\n",
       "Estados Unidos  WWE                 Videojuegos                97200000.0\n",
       "Name: Subscribers, dtype: float64"
      ]
     },
     "execution_count": 45,
     "metadata": {},
     "output_type": "execute_result"
    }
   ],
   "source": [
    "df.groupby([\"Country\",\"Streamer\",\"Categories\"])[\"Subscribers\"].sum().sort_values(ascending=False).head(10)"
   ]
  },
  {
   "cell_type": "code",
   "execution_count": 46,
   "id": "ae7cede4",
   "metadata": {},
   "outputs": [
    {
     "data": {
      "text/html": [
       "<div>\n",
       "<style scoped>\n",
       "    .dataframe tbody tr th:only-of-type {\n",
       "        vertical-align: middle;\n",
       "    }\n",
       "\n",
       "    .dataframe tbody tr th {\n",
       "        vertical-align: top;\n",
       "    }\n",
       "\n",
       "    .dataframe thead th {\n",
       "        text-align: right;\n",
       "    }\n",
       "</style>\n",
       "<table border=\"1\" class=\"dataframe\">\n",
       "  <thead>\n",
       "    <tr style=\"text-align: right;\">\n",
       "      <th></th>\n",
       "      <th>Streamer</th>\n",
       "      <th>Categories</th>\n",
       "      <th>Subscribers</th>\n",
       "      <th>Country</th>\n",
       "      <th>Visits</th>\n",
       "      <th>Likes</th>\n",
       "      <th>Comments</th>\n",
       "      <th>Links</th>\n",
       "      <th>Like</th>\n",
       "    </tr>\n",
       "    <tr>\n",
       "      <th>Rank</th>\n",
       "      <th></th>\n",
       "      <th></th>\n",
       "      <th></th>\n",
       "      <th></th>\n",
       "      <th></th>\n",
       "      <th></th>\n",
       "      <th></th>\n",
       "      <th></th>\n",
       "      <th></th>\n",
       "    </tr>\n",
       "  </thead>\n",
       "  <tbody>\n",
       "    <tr>\n",
       "      <th>1</th>\n",
       "      <td>tseries</td>\n",
       "      <td>Música y baile</td>\n",
       "      <td>249500000.0</td>\n",
       "      <td>India</td>\n",
       "      <td>86200.0</td>\n",
       "      <td>2700.0</td>\n",
       "      <td>78.0</td>\n",
       "      <td>http://youtube.com/channel/UCq-Fj5jknLsUf-MWSy...</td>\n",
       "      <td>2700.0</td>\n",
       "    </tr>\n",
       "    <tr>\n",
       "      <th>2</th>\n",
       "      <td>MrBeast</td>\n",
       "      <td>Videojuegos, Humor</td>\n",
       "      <td>183500000.0</td>\n",
       "      <td>Estados Unidos</td>\n",
       "      <td>117400000.0</td>\n",
       "      <td>5300000.0</td>\n",
       "      <td>18500.0</td>\n",
       "      <td>http://youtube.com/channel/UCX6OQ3DkcsbYNE6H8u...</td>\n",
       "      <td>5300000.0</td>\n",
       "    </tr>\n",
       "    <tr>\n",
       "      <th>3</th>\n",
       "      <td>CoComelon</td>\n",
       "      <td>Educación</td>\n",
       "      <td>165500000.0</td>\n",
       "      <td>Unknown</td>\n",
       "      <td>7000000.0</td>\n",
       "      <td>24700.0</td>\n",
       "      <td>0.0</td>\n",
       "      <td>http://youtube.com/channel/UCbCmjCuTUZos6Inko4...</td>\n",
       "      <td>24700.0</td>\n",
       "    </tr>\n",
       "    <tr>\n",
       "      <th>4</th>\n",
       "      <td>SETIndia</td>\n",
       "      <td>Música y baile</td>\n",
       "      <td>162600000.0</td>\n",
       "      <td>India</td>\n",
       "      <td>15600.0</td>\n",
       "      <td>166.0</td>\n",
       "      <td>9.0</td>\n",
       "      <td>http://youtube.com/channel/UCpEhnqL0y41EpW2TvW...</td>\n",
       "      <td>166.0</td>\n",
       "    </tr>\n",
       "    <tr>\n",
       "      <th>5</th>\n",
       "      <td>KidsDianaShow</td>\n",
       "      <td>Animación, Juguetes</td>\n",
       "      <td>113500000.0</td>\n",
       "      <td>Unknown</td>\n",
       "      <td>3900000.0</td>\n",
       "      <td>12400.0</td>\n",
       "      <td>0.0</td>\n",
       "      <td>http://youtube.com/channel/UCk8GzjMOrta8yxDcKf...</td>\n",
       "      <td>12400.0</td>\n",
       "    </tr>\n",
       "  </tbody>\n",
       "</table>\n",
       "</div>"
      ],
      "text/plain": [
       "           Streamer           Categories  Subscribers         Country  \\\n",
       "Rank                                                                    \n",
       "1           tseries       Música y baile  249500000.0           India   \n",
       "2           MrBeast   Videojuegos, Humor  183500000.0  Estados Unidos   \n",
       "3         CoComelon            Educación  165500000.0         Unknown   \n",
       "4          SETIndia       Música y baile  162600000.0           India   \n",
       "5     KidsDianaShow  Animación, Juguetes  113500000.0         Unknown   \n",
       "\n",
       "           Visits      Likes  Comments  \\\n",
       "Rank                                     \n",
       "1         86200.0     2700.0      78.0   \n",
       "2     117400000.0  5300000.0   18500.0   \n",
       "3       7000000.0    24700.0       0.0   \n",
       "4         15600.0      166.0       9.0   \n",
       "5       3900000.0    12400.0       0.0   \n",
       "\n",
       "                                                  Links       Like  \n",
       "Rank                                                                \n",
       "1     http://youtube.com/channel/UCq-Fj5jknLsUf-MWSy...     2700.0  \n",
       "2     http://youtube.com/channel/UCX6OQ3DkcsbYNE6H8u...  5300000.0  \n",
       "3     http://youtube.com/channel/UCbCmjCuTUZos6Inko4...    24700.0  \n",
       "4     http://youtube.com/channel/UCpEhnqL0y41EpW2TvW...      166.0  \n",
       "5     http://youtube.com/channel/UCk8GzjMOrta8yxDcKf...    12400.0  "
      ]
     },
     "execution_count": 46,
     "metadata": {},
     "output_type": "execute_result"
    }
   ],
   "source": [
    "df.head()"
   ]
  },
  {
   "cell_type": "markdown",
   "id": "f798f1f5",
   "metadata": {},
   "source": [
    "# 4.Performace metrics"
   ]
  },
  {
   "cell_type": "code",
   "execution_count": 48,
   "id": "95364cf1",
   "metadata": {},
   "outputs": [
    {
     "data": {
      "text/plain": [
       "21894400.0"
      ]
     },
     "execution_count": 48,
     "metadata": {},
     "output_type": "execute_result"
    }
   ],
   "source": [
    "Avg_subs=df['Subscribers'].mean()\n",
    "Avg_subs"
   ]
  },
  {
   "cell_type": "code",
   "execution_count": 49,
   "id": "750420dc",
   "metadata": {},
   "outputs": [
    {
     "data": {
      "text/plain": [
       "1209446.3155"
      ]
     },
     "execution_count": 49,
     "metadata": {},
     "output_type": "execute_result"
    }
   ],
   "source": [
    "df['Visits'].mean()"
   ]
  },
  {
   "cell_type": "code",
   "execution_count": 51,
   "id": "d252a91a",
   "metadata": {},
   "outputs": [
    {
     "data": {
      "text/plain": [
       "1288.768"
      ]
     },
     "execution_count": 51,
     "metadata": {},
     "output_type": "execute_result"
    }
   ],
   "source": [
    "df['Comments'].mean()"
   ]
  },
  {
   "cell_type": "code",
   "execution_count": 52,
   "id": "e45a253d",
   "metadata": {},
   "outputs": [
    {
     "data": {
      "text/plain": [
       "53632.592"
      ]
     },
     "execution_count": 52,
     "metadata": {},
     "output_type": "execute_result"
    }
   ],
   "source": [
    "df['Likes'].mean()"
   ]
  },
  {
   "cell_type": "markdown",
   "id": "489d7dd6",
   "metadata": {},
   "source": [
    "# 5.Content Categories"
   ]
  },
  {
   "cell_type": "code",
   "execution_count": 53,
   "id": "858177f2",
   "metadata": {},
   "outputs": [
    {
     "data": {
      "text/plain": [
       "Categories\n",
       "Música y baile                        466\n",
       "Películas, Animación                   61\n",
       "Música y baile, Películas              41\n",
       "Vlogs diarios                          37\n",
       "Noticias y Política                    36\n",
       "Animación, Videojuegos                 34\n",
       "Películas, Humor                       34\n",
       "Animación, Juguetes                    29\n",
       "Animación, Humor                       27\n",
       "Educación                              24\n",
       "Películas                              24\n",
       "Animación                              22\n",
       "Videojuegos                            19\n",
       "Videojuegos, Humor                     17\n",
       "Música y baile, Animación              16\n",
       "Ciencia y tecnología                   14\n",
       "Comida y bebida                        12\n",
       "Juguetes                               10\n",
       "Humor                                  10\n",
       "Películas, Juguetes                     9\n",
       "Deportes                                8\n",
       "Películas, Videojuegos                  8\n",
       "Música y baile, Humor                   6\n",
       "Juguetes, Coches y vehículos            4\n",
       "Videojuegos, Juguetes                   3\n",
       "Fitness, Salud y autoayuda              3\n",
       "DIY y Life Hacks                        3\n",
       "Moda                                    2\n",
       "Fitness                                 2\n",
       "Educación, Juguetes                     2\n",
       "Coches y vehículos                      2\n",
       "Animales y mascotas                     2\n",
       "Juguetes, DIY y Life Hacks              1\n",
       "ASMR, Comida y bebida                   1\n",
       "Música y baile, Juguetes                1\n",
       "Diseño/arte, DIY y Life Hacks           1\n",
       "Diseño/arte, Belleza                    1\n",
       "Diseño/arte                             1\n",
       "DIY y Life Hacks, Juguetes              1\n",
       "Comida y bebida, Salud y autoayuda      1\n",
       "Comida y bebida, Juguetes               1\n",
       "Viajes, Espectáculos                    1\n",
       "Belleza, Moda                           1\n",
       "Animación, Humor, Juguetes              1\n",
       "ASMR                                    1\n",
       "Name: Streamer, dtype: int64"
      ]
     },
     "execution_count": 53,
     "metadata": {},
     "output_type": "execute_result"
    }
   ],
   "source": [
    "df.groupby('Categories')[\"Streamer\"].count().sort_values(ascending=False)"
   ]
  },
  {
   "cell_type": "markdown",
   "id": "9c476262",
   "metadata": {},
   "source": [
    "# 6.Brands and Collaboration"
   ]
  },
  {
   "cell_type": "raw",
   "id": "9e927fdd",
   "metadata": {},
   "source": [
    "While high subscriber counts can certainly attract brands, other factor like engagement rate, audience demographics, and content alignment with brand values also play crucial roles in determining collaboration opportunities.\n",
    "--›T-Series: 249.5 million\n",
    "MrBeast: 183.5 million\n",
    "CoComelon: 16.5 million\n",
    "SET India: 162.6 million\n",
    "Kids Diana Show: 113.5 million\n",
    "PewDiePi: 111.5 million\n",
    "Like Nastya Official: 107.5 million\n",
    "Vlad and Niki: 101.4 million\n",
    "Zee Music Company:99.7 million\n",
    "WWE: 97.2 million"
   ]
  },
  {
   "cell_type": "markdown",
   "id": "6396f0d5",
   "metadata": {},
   "source": [
    "# 7. Streamers with above average Performance"
   ]
  },
  {
   "cell_type": "code",
   "execution_count": 55,
   "id": "5265e9e9",
   "metadata": {},
   "outputs": [
    {
     "data": {
      "text/plain": [
       "Rank\n",
       "1      249500000.0\n",
       "2      183500000.0\n",
       "3      165500000.0\n",
       "4      162600000.0\n",
       "5      113500000.0\n",
       "          ...     \n",
       "299     21900000.0\n",
       "300     21900000.0\n",
       "301     21900000.0\n",
       "302     21900000.0\n",
       "303     21900000.0\n",
       "Name: Subscribers, Length: 303, dtype: float64"
      ]
     },
     "execution_count": 55,
     "metadata": {},
     "output_type": "execute_result"
    }
   ],
   "source": [
    "Most_avg_values =df[df['Subscribers']>df['Subscribers'].mean()]['Subscribers']\n",
    "Most_avg_values"
   ]
  },
  {
   "cell_type": "code",
   "execution_count": 56,
   "id": "41995adb",
   "metadata": {},
   "outputs": [
    {
     "data": {
      "text/plain": [
       "Rank\n",
       "1       249500000.0\n",
       "2       183500000.0\n",
       "3       165500000.0\n",
       "4       162600000.0\n",
       "5       113500000.0\n",
       "           ...     \n",
       "996      11700000.0\n",
       "997      11700000.0\n",
       "998      11700000.0\n",
       "999      11700000.0\n",
       "1000     11700000.0\n",
       "Name: Subscribers, Length: 1000, dtype: float64"
      ]
     },
     "execution_count": 56,
     "metadata": {},
     "output_type": "execute_result"
    }
   ],
   "source": [
    "avg_subscribers_by_streamer = df.groupby('Streamer')['Subscribers'].transform('mean')\n",
    "avg_subscribers_by_streamer"
   ]
  },
  {
   "cell_type": "code",
   "execution_count": 57,
   "id": "e7a7ed13",
   "metadata": {},
   "outputs": [],
   "source": [
    "df['Subs Greater than avg']= df['Subscribers'] > avg_subscribers_by_streamer"
   ]
  },
  {
   "cell_type": "code",
   "execution_count": 58,
   "id": "10b5c554",
   "metadata": {},
   "outputs": [
    {
     "data": {
      "text/html": [
       "<div>\n",
       "<style scoped>\n",
       "    .dataframe tbody tr th:only-of-type {\n",
       "        vertical-align: middle;\n",
       "    }\n",
       "\n",
       "    .dataframe tbody tr th {\n",
       "        vertical-align: top;\n",
       "    }\n",
       "\n",
       "    .dataframe thead th {\n",
       "        text-align: right;\n",
       "    }\n",
       "</style>\n",
       "<table border=\"1\" class=\"dataframe\">\n",
       "  <thead>\n",
       "    <tr style=\"text-align: right;\">\n",
       "      <th></th>\n",
       "      <th>Streamer</th>\n",
       "      <th>Categories</th>\n",
       "      <th>Subscribers</th>\n",
       "      <th>Country</th>\n",
       "      <th>Visits</th>\n",
       "      <th>Likes</th>\n",
       "      <th>Comments</th>\n",
       "      <th>Links</th>\n",
       "      <th>Like</th>\n",
       "      <th>Subs Greater than avg</th>\n",
       "    </tr>\n",
       "    <tr>\n",
       "      <th>Rank</th>\n",
       "      <th></th>\n",
       "      <th></th>\n",
       "      <th></th>\n",
       "      <th></th>\n",
       "      <th></th>\n",
       "      <th></th>\n",
       "      <th></th>\n",
       "      <th></th>\n",
       "      <th></th>\n",
       "      <th></th>\n",
       "    </tr>\n",
       "  </thead>\n",
       "  <tbody>\n",
       "    <tr>\n",
       "      <th>451</th>\n",
       "      <td>thexoteam</td>\n",
       "      <td>Música y baile</td>\n",
       "      <td>17900000.0</td>\n",
       "      <td>Estados Unidos</td>\n",
       "      <td>772800.0</td>\n",
       "      <td>45000.0</td>\n",
       "      <td>185.0</td>\n",
       "      <td>http://youtube.com/channel/UClZAOlfhJQJRym39Wo...</td>\n",
       "      <td>45000.0</td>\n",
       "      <td>True</td>\n",
       "    </tr>\n",
       "  </tbody>\n",
       "</table>\n",
       "</div>"
      ],
      "text/plain": [
       "       Streamer      Categories  Subscribers         Country    Visits  \\\n",
       "Rank                                                                     \n",
       "451   thexoteam  Música y baile   17900000.0  Estados Unidos  772800.0   \n",
       "\n",
       "        Likes  Comments                                              Links  \\\n",
       "Rank                                                                         \n",
       "451   45000.0     185.0  http://youtube.com/channel/UClZAOlfhJQJRym39Wo...   \n",
       "\n",
       "         Like  Subs Greater than avg  \n",
       "Rank                                  \n",
       "451   45000.0                   True  "
      ]
     },
     "execution_count": 58,
     "metadata": {},
     "output_type": "execute_result"
    }
   ],
   "source": [
    "df_subs_above_avg = df[df['Subs Greater than avg'] == True]\n",
    "df_subs_above_avg"
   ]
  },
  {
   "cell_type": "code",
   "execution_count": 61,
   "id": "9736e492",
   "metadata": {},
   "outputs": [
    {
     "data": {
      "text/html": [
       "<div>\n",
       "<style scoped>\n",
       "    .dataframe tbody tr th:only-of-type {\n",
       "        vertical-align: middle;\n",
       "    }\n",
       "\n",
       "    .dataframe tbody tr th {\n",
       "        vertical-align: top;\n",
       "    }\n",
       "\n",
       "    .dataframe thead th {\n",
       "        text-align: right;\n",
       "    }\n",
       "</style>\n",
       "<table border=\"1\" class=\"dataframe\">\n",
       "  <thead>\n",
       "    <tr style=\"text-align: right;\">\n",
       "      <th></th>\n",
       "      <th>Streamer</th>\n",
       "      <th>Categories</th>\n",
       "      <th>Subscribers</th>\n",
       "      <th>Country</th>\n",
       "      <th>Visits</th>\n",
       "      <th>Likes</th>\n",
       "      <th>Comments</th>\n",
       "      <th>Links</th>\n",
       "      <th>Like</th>\n",
       "      <th>Subs Greater than avg</th>\n",
       "      <th>Likes Greater than avg</th>\n",
       "    </tr>\n",
       "    <tr>\n",
       "      <th>Rank</th>\n",
       "      <th></th>\n",
       "      <th></th>\n",
       "      <th></th>\n",
       "      <th></th>\n",
       "      <th></th>\n",
       "      <th></th>\n",
       "      <th></th>\n",
       "      <th></th>\n",
       "      <th></th>\n",
       "      <th></th>\n",
       "      <th></th>\n",
       "    </tr>\n",
       "  </thead>\n",
       "  <tbody>\n",
       "    <tr>\n",
       "      <th>448</th>\n",
       "      <td>mgcplayhouse</td>\n",
       "      <td>Juguetes, Coches y vehículos</td>\n",
       "      <td>17800000.0</td>\n",
       "      <td>Unknown</td>\n",
       "      <td>56300.0</td>\n",
       "      <td>96.0</td>\n",
       "      <td>0.0</td>\n",
       "      <td>http://youtube.com/channel/UC6zPzUJo8hu-5TzUk8...</td>\n",
       "      <td>96.0</td>\n",
       "      <td>False</td>\n",
       "      <td>True</td>\n",
       "    </tr>\n",
       "    <tr>\n",
       "      <th>450</th>\n",
       "      <td>thexoteam</td>\n",
       "      <td>Música y baile</td>\n",
       "      <td>17800000.0</td>\n",
       "      <td>Estados Unidos</td>\n",
       "      <td>797600.0</td>\n",
       "      <td>50400.0</td>\n",
       "      <td>179.0</td>\n",
       "      <td>http://youtube.com/channel/UClZAOlfhJQJRym39Wo...</td>\n",
       "      <td>50400.0</td>\n",
       "      <td>False</td>\n",
       "      <td>True</td>\n",
       "    </tr>\n",
       "    <tr>\n",
       "      <th>950</th>\n",
       "      <td>Family-Box</td>\n",
       "      <td>Películas</td>\n",
       "      <td>12000000.0</td>\n",
       "      <td>Rusia</td>\n",
       "      <td>173600.0</td>\n",
       "      <td>6600.0</td>\n",
       "      <td>105.0</td>\n",
       "      <td>http://youtube.com/channel/UC-jHNWViReG6R_kJ6b...</td>\n",
       "      <td>6600.0</td>\n",
       "      <td>False</td>\n",
       "      <td>True</td>\n",
       "    </tr>\n",
       "  </tbody>\n",
       "</table>\n",
       "</div>"
      ],
      "text/plain": [
       "          Streamer                    Categories  Subscribers         Country  \\\n",
       "Rank                                                                            \n",
       "448   mgcplayhouse  Juguetes, Coches y vehículos   17800000.0         Unknown   \n",
       "450      thexoteam                Música y baile   17800000.0  Estados Unidos   \n",
       "950     Family-Box                     Películas   12000000.0           Rusia   \n",
       "\n",
       "        Visits    Likes  Comments  \\\n",
       "Rank                                \n",
       "448    56300.0     96.0       0.0   \n",
       "450   797600.0  50400.0     179.0   \n",
       "950   173600.0   6600.0     105.0   \n",
       "\n",
       "                                                  Links     Like  \\\n",
       "Rank                                                               \n",
       "448   http://youtube.com/channel/UC6zPzUJo8hu-5TzUk8...     96.0   \n",
       "450   http://youtube.com/channel/UClZAOlfhJQJRym39Wo...  50400.0   \n",
       "950   http://youtube.com/channel/UC-jHNWViReG6R_kJ6b...   6600.0   \n",
       "\n",
       "      Subs Greater than avg  Likes Greater than avg  \n",
       "Rank                                                 \n",
       "448                   False                    True  \n",
       "450                   False                    True  \n",
       "950                   False                    True  "
      ]
     },
     "execution_count": 61,
     "metadata": {},
     "output_type": "execute_result"
    }
   ],
   "source": [
    "Most_avg_likes = df[df['Likes'] > df['Likes'].mean()]['Likes']\n",
    "Most_avg_likes\n",
    "avg_likes_by_streamer = df.groupby('Streamer')['Likes'].transform('mean')\n",
    "df['Likes Greater than avg'] = df['Likes'] > avg_likes_by_streamer\n",
    "df_likes_above_avg = df[df['Likes Greater than avg'] == True]\n",
    "df_likes_above_avg"
   ]
  },
  {
   "cell_type": "code",
   "execution_count": 63,
   "id": "94aeb988",
   "metadata": {},
   "outputs": [
    {
     "data": {
      "text/html": [
       "<div>\n",
       "<style scoped>\n",
       "    .dataframe tbody tr th:only-of-type {\n",
       "        vertical-align: middle;\n",
       "    }\n",
       "\n",
       "    .dataframe tbody tr th {\n",
       "        vertical-align: top;\n",
       "    }\n",
       "\n",
       "    .dataframe thead th {\n",
       "        text-align: right;\n",
       "    }\n",
       "</style>\n",
       "<table border=\"1\" class=\"dataframe\">\n",
       "  <thead>\n",
       "    <tr style=\"text-align: right;\">\n",
       "      <th></th>\n",
       "      <th>Streamer</th>\n",
       "      <th>Categories</th>\n",
       "      <th>Subscribers</th>\n",
       "      <th>Country</th>\n",
       "      <th>Visits</th>\n",
       "      <th>Likes</th>\n",
       "      <th>Comments</th>\n",
       "      <th>Links</th>\n",
       "      <th>Like</th>\n",
       "      <th>Subs Greater than avg</th>\n",
       "      <th>Likes Greater than avg</th>\n",
       "      <th>Visits Greater than avg</th>\n",
       "    </tr>\n",
       "    <tr>\n",
       "      <th>Rank</th>\n",
       "      <th></th>\n",
       "      <th></th>\n",
       "      <th></th>\n",
       "      <th></th>\n",
       "      <th></th>\n",
       "      <th></th>\n",
       "      <th></th>\n",
       "      <th></th>\n",
       "      <th></th>\n",
       "      <th></th>\n",
       "      <th></th>\n",
       "      <th></th>\n",
       "    </tr>\n",
       "  </thead>\n",
       "  <tbody>\n",
       "    <tr>\n",
       "      <th>450</th>\n",
       "      <td>thexoteam</td>\n",
       "      <td>Música y baile</td>\n",
       "      <td>17800000.0</td>\n",
       "      <td>Estados Unidos</td>\n",
       "      <td>797600.0</td>\n",
       "      <td>50400.0</td>\n",
       "      <td>179.0</td>\n",
       "      <td>http://youtube.com/channel/UClZAOlfhJQJRym39Wo...</td>\n",
       "      <td>50400.0</td>\n",
       "      <td>False</td>\n",
       "      <td>True</td>\n",
       "      <td>True</td>\n",
       "    </tr>\n",
       "    <tr>\n",
       "      <th>452</th>\n",
       "      <td>mgcplayhouse</td>\n",
       "      <td>Juguetes, Coches y vehículos</td>\n",
       "      <td>17800000.0</td>\n",
       "      <td>Unknown</td>\n",
       "      <td>63600.0</td>\n",
       "      <td>75.0</td>\n",
       "      <td>0.0</td>\n",
       "      <td>http://youtube.com/channel/UC6zPzUJo8hu-5TzUk8...</td>\n",
       "      <td>75.0</td>\n",
       "      <td>False</td>\n",
       "      <td>False</td>\n",
       "      <td>True</td>\n",
       "    </tr>\n",
       "    <tr>\n",
       "      <th>957</th>\n",
       "      <td>Family-Box</td>\n",
       "      <td>Películas</td>\n",
       "      <td>12000000.0</td>\n",
       "      <td>Rusia</td>\n",
       "      <td>177400.0</td>\n",
       "      <td>6300.0</td>\n",
       "      <td>86.0</td>\n",
       "      <td>http://youtube.com/channel/UC-jHNWViReG6R_kJ6b...</td>\n",
       "      <td>6300.0</td>\n",
       "      <td>False</td>\n",
       "      <td>False</td>\n",
       "      <td>True</td>\n",
       "    </tr>\n",
       "  </tbody>\n",
       "</table>\n",
       "</div>"
      ],
      "text/plain": [
       "          Streamer                    Categories  Subscribers         Country  \\\n",
       "Rank                                                                            \n",
       "450      thexoteam                Música y baile   17800000.0  Estados Unidos   \n",
       "452   mgcplayhouse  Juguetes, Coches y vehículos   17800000.0         Unknown   \n",
       "957     Family-Box                     Películas   12000000.0           Rusia   \n",
       "\n",
       "        Visits    Likes  Comments  \\\n",
       "Rank                                \n",
       "450   797600.0  50400.0     179.0   \n",
       "452    63600.0     75.0       0.0   \n",
       "957   177400.0   6300.0      86.0   \n",
       "\n",
       "                                                  Links     Like  \\\n",
       "Rank                                                               \n",
       "450   http://youtube.com/channel/UClZAOlfhJQJRym39Wo...  50400.0   \n",
       "452   http://youtube.com/channel/UC6zPzUJo8hu-5TzUk8...     75.0   \n",
       "957   http://youtube.com/channel/UC-jHNWViReG6R_kJ6b...   6300.0   \n",
       "\n",
       "      Subs Greater than avg  Likes Greater than avg  Visits Greater than avg  \n",
       "Rank                                                                          \n",
       "450                   False                    True                     True  \n",
       "452                   False                   False                     True  \n",
       "957                   False                   False                     True  "
      ]
     },
     "execution_count": 63,
     "metadata": {},
     "output_type": "execute_result"
    }
   ],
   "source": [
    "Most_avg_visits = df[df['Visits'] > df['Visits'].mean()]['Visits']\n",
    "Most_avg_visits\n",
    "avg_visit_by_streamer = df.groupby('Streamer')['Visits'].transform('mean')\n",
    "df['Visits Greater than avg'] = df['Visits'] > avg_visit_by_streamer\n",
    "df_visits_above_avg = df[df['Visits Greater than avg'] == True]\n",
    "df_visits_above_avg"
   ]
  },
  {
   "cell_type": "code",
   "execution_count": 19,
   "id": "53c06e9c",
   "metadata": {},
   "outputs": [
    {
     "data": {
      "text/html": [
       "<div>\n",
       "<style scoped>\n",
       "    .dataframe tbody tr th:only-of-type {\n",
       "        vertical-align: middle;\n",
       "    }\n",
       "\n",
       "    .dataframe tbody tr th {\n",
       "        vertical-align: top;\n",
       "    }\n",
       "\n",
       "    .dataframe thead th {\n",
       "        text-align: right;\n",
       "    }\n",
       "</style>\n",
       "<table border=\"1\" class=\"dataframe\">\n",
       "  <thead>\n",
       "    <tr style=\"text-align: right;\">\n",
       "      <th></th>\n",
       "      <th>Streamer</th>\n",
       "      <th>Categories</th>\n",
       "      <th>Subscribers</th>\n",
       "      <th>Country</th>\n",
       "      <th>Visits</th>\n",
       "      <th>Likes</th>\n",
       "      <th>Comments</th>\n",
       "      <th>Links</th>\n",
       "      <th>Like</th>\n",
       "      <th>Comments Greater than avg</th>\n",
       "    </tr>\n",
       "    <tr>\n",
       "      <th>Rank</th>\n",
       "      <th></th>\n",
       "      <th></th>\n",
       "      <th></th>\n",
       "      <th></th>\n",
       "      <th></th>\n",
       "      <th></th>\n",
       "      <th></th>\n",
       "      <th></th>\n",
       "      <th></th>\n",
       "      <th></th>\n",
       "    </tr>\n",
       "  </thead>\n",
       "  <tbody>\n",
       "    <tr>\n",
       "      <th>451</th>\n",
       "      <td>thexoteam</td>\n",
       "      <td>Música y baile</td>\n",
       "      <td>17900000.0</td>\n",
       "      <td>Estados Unidos</td>\n",
       "      <td>772800.0</td>\n",
       "      <td>45000.0</td>\n",
       "      <td>185.0</td>\n",
       "      <td>http://youtube.com/channel/UClZAOlfhJQJRym39Wo...</td>\n",
       "      <td>45000.0</td>\n",
       "      <td>True</td>\n",
       "    </tr>\n",
       "    <tr>\n",
       "      <th>950</th>\n",
       "      <td>Family-Box</td>\n",
       "      <td>Películas</td>\n",
       "      <td>12000000.0</td>\n",
       "      <td>Rusia</td>\n",
       "      <td>173600.0</td>\n",
       "      <td>6600.0</td>\n",
       "      <td>105.0</td>\n",
       "      <td>http://youtube.com/channel/UC-jHNWViReG6R_kJ6b...</td>\n",
       "      <td>6600.0</td>\n",
       "      <td>True</td>\n",
       "    </tr>\n",
       "  </tbody>\n",
       "</table>\n",
       "</div>"
      ],
      "text/plain": [
       "        Streamer      Categories  Subscribers         Country    Visits  \\\n",
       "Rank                                                                      \n",
       "451    thexoteam  Música y baile   17900000.0  Estados Unidos  772800.0   \n",
       "950   Family-Box       Películas   12000000.0           Rusia  173600.0   \n",
       "\n",
       "        Likes  Comments                                              Links  \\\n",
       "Rank                                                                         \n",
       "451   45000.0     185.0  http://youtube.com/channel/UClZAOlfhJQJRym39Wo...   \n",
       "950    6600.0     105.0  http://youtube.com/channel/UC-jHNWViReG6R_kJ6b...   \n",
       "\n",
       "         Like  Comments Greater than avg  \n",
       "Rank                                      \n",
       "451   45000.0                       True  \n",
       "950    6600.0                       True  "
      ]
     },
     "execution_count": 19,
     "metadata": {},
     "output_type": "execute_result"
    }
   ],
   "source": [
    "Most_avg_comments = df[df['Comments'] > df['Comments'].mean()]['Comments']\n",
    "Most_avg_comments\n",
    "avg_comments_by_streamer = df.groupby('Streamer')['Comments'].transform('mean')\n",
    "df['Comments Greater than avg'] = df['Comments'] > avg_comments_by_streamer\n",
    "df_comments_above_avg = df[df['Comments Greater than avg']==True]\n",
    "df_comments_above_avg"
   ]
  },
  {
   "cell_type": "code",
   "execution_count": null,
   "id": "7beeca93",
   "metadata": {},
   "outputs": [],
   "source": [
    "colunns to replace = ['Subscribe Greater than avg', 'Likes Greater than avg', 'Visits Greater than avg']\n",
    "for column in colunns to replace:\n",
    "    df column = df [colunn].replace({True:1, False: 0})"
   ]
  },
  {
   "cell_type": "code",
   "execution_count": 36,
   "id": "d1cb9995",
   "metadata": {},
   "outputs": [
    {
     "data": {
      "text/plain": [
       "<function matplotlib.pyplot.show(close=None, block=None)>"
      ]
     },
     "execution_count": 36,
     "metadata": {},
     "output_type": "execute_result"
    },
    {
     "data": {
      "image/png": "[encoded data removed]",
      "text/plain": [
       "<Figure size 640x480 with 1 Axes>"
      ]
     },
     "metadata": {},
     "output_type": "display_data"
    }
   ],
   "source": [
    "import seaborn as sns\n",
    "import matplotlib.pyplot as plt\n",
    "columns_to_plot = [\"Subscribers\",\"Likes\",\"Visits\",\"Comments\"]\n",
    "sns.boxplot(data=df[columns_to_plot])\n",
    "\n",
    "plt.title('Boxplot for detecting outliers')\n",
    "plt.xlabel('columns') \n",
    "plt.ylabel('Values')\n",
    "plt.show"
   ]
  },
  {
   "cell_type": "code",
   "execution_count": 37,
   "id": "306b36a1",
   "metadata": {},
   "outputs": [
    {
     "data": {
      "image/png": "[encoded data removed]",
      "text/plain": [
       "<Figure size 1000x600 with 1 Axes>"
      ]
     },
     "metadata": {},
     "output_type": "display_data"
    }
   ],
   "source": [
    "streamers = ['T-Series', 'MrBeast', 'Cocomelon', 'SETIndia', 'KidsDianaShow', 'PewDiePie', 'LIKE NASTYA', '5-Minute Crafts', 'Vlad and Niki', 'Canal KondZilla']\n",
    "categories = ['Música y baile', 'Videojuegos, Humor', 'Educación', 'Películas, Videojuegos', 'Animación, juguetes', 'Películas, Humor', 'Películas, Animación', 'Animación', 'Música y baile, Animación', 'Deportes']\n",
    "subscribers = [249500000, 188500000, 165900000, 162600000, 113500000, 111500000, 107500000, 100000000, 90000000, 85000000]\n",
    "country = ['India', 'Estados Unidos', 'Unknown', 'Unknown', 'Unknown', 'Estados Unidos', 'Unknown', 'Unknown', 'Unknown', 'Brasil']\n",
    "\n",
    "plt.figure(figsize=(10, 6))\n",
    "sns.barplot(x=subscribers, y=categories, palette='viridis')\n",
    "plt.title('Subscriber Distribution by Category')\n",
    "plt.xlabel('Subscribers (in millions)')\n",
    "plt.ylabel('Category')\n",
    "plt.show()"
   ]
  },
  {
   "cell_type": "code",
   "execution_count": 40,
   "id": "714eef2e",
   "metadata": {},
   "outputs": [
    {
     "data": {
      "image/png": "[encoded data removed]",
      "text/plain": [
       "<Figure size 800x800 with 1 Axes>"
      ]
     },
     "metadata": {},
     "output_type": "display_data"
    }
   ],
   "source": [
    "plt.figure(figsize=(8, 8))\n",
    "plt.pie(subscribers,labels=country, autopct='%1.1f%%',startangle=140)\n",
    "plt.title('Country-wise Subscriber Counts')\n",
    "plt.axis('equal')\n",
    "plt.show()"
   ]
  },
  {
   "cell_type": "markdown",
   "id": "442267ff",
   "metadata": {},
   "source": [
    "# 8. Insights and recommendation"
   ]
  },
  {
   "cell_type": "raw",
   "id": "86b48083",
   "metadata": {},
   "source": [
    "•-›Here are Top 10 Youtube Streamers with their subscribers:"
   ]
  },
  {
   "cell_type": "raw",
   "id": "2288ee1e",
   "metadata": {},
   "source": [
    "T-Series: 249.5 million MeBeast: 183.5 million\n",
    "Coconelon: 165.5 million\n",
    "SET India: 162.6 million\n",
    "Kids Diana Show: 113.5 million\n",
    "PewDiePie: 111.5 million\n",
    "Like Nastya Official: 107.5 million\n",
    "Vlad and Niki: 101.4 million\n",
    "Zee Music Company: 99.7 million\n",
    "WNE: 97.2 million"
   ]
  },
  {
   "cell_type": "markdown",
   "id": "d05137cc",
   "metadata": {},
   "source": [
    "# Top 10 Youtube channel with their link"
   ]
  },
  {
   "cell_type": "code",
   "execution_count": 44,
   "id": "763a20aa",
   "metadata": {},
   "outputs": [
    {
     "data": {
      "text/plain": [
       "Streamer            Links                                              \n",
       "tseries             http://youtube.com/channel/UCq-Fj5jknLsUf-MWSy4_brA    249500000.0\n",
       "MrBeast             http://youtube.com/channel/UCX6OQ3DkcsbYNE6H8uQQuVA    183500000.0\n",
       "CoComelon           http://youtube.com/channel/UCbCmjCuTUZos6Inko4u57UQ    165500000.0\n",
       "SETIndia            http://youtube.com/channel/UCpEhnqL0y41EpW2TvWAHD7Q    162600000.0\n",
       "KidsDianaShow       http://youtube.com/channel/UCk8GzjMOrta8yxDcKfylJYw    113500000.0\n",
       "PewDiePie           http://youtube.com/channel/UC-lHJZR3Gqxm24_Vd_AJ5Yw    111500000.0\n",
       "LikeNastyaofficial  http://youtube.com/channel/UCJplp5SjeGSdVdwsfb9Q7lQ    107500000.0\n",
       "VladandNiki         http://youtube.com/channel/UCvlE5gTbOvjiolFlEm-c_Ow    101400000.0\n",
       "zeemusiccompany     http://youtube.com/channel/UCFFbwnve3yF62-tVXkTyHqg     99700000.0\n",
       "WWE                 http://youtube.com/channel/UCJ5v_MCY6GNUBTO8-D3XoAg     97200000.0\n",
       "Name: Subscribers, dtype: float64"
      ]
     },
     "execution_count": 44,
     "metadata": {},
     "output_type": "execute_result"
    }
   ],
   "source": [
    "df.groupby(['Streamer', 'Links'])['Subscribers'].sum() .sort_values(ascending=False).head (10)"
   ]
  },
  {
   "cell_type": "raw",
   "id": "5bd4fde7",
   "metadata": {},
   "source": [
    "--›Here are the Top 15 popular categories:"
   ]
  },
  {
   "cell_type": "raw",
   "id": "5cd0c577",
   "metadata": {},
   "source": [
    "Musica y baile: 160\n",
    "Peliculas, Antmacion: 61\n",
    "Música y baile, Peliculas: 41\n",
    "Vlogs diarios: 37\n",
    "Noticias y Política: 36\n",
    "Películas, Hunor: 34\n",
    "Animación,\n",
    "Videojuegos: 34\n",
    "Animación,\n",
    "Juguetes: 29\n",
    "Animación, Hunor:\n",
    "Peliculas:24\n",
    "Educación: 24\n",
    "Animación: 22\n",
    "Videojuegos: 19\n",
    "Videojuegos, Humor: 17\n",
    "musica y baile, Animacion: 16"
   ]
  },
  {
   "cell_type": "raw",
   "id": "ac170c9c",
   "metadata": {},
   "source": [
    "#Regional preferences"
   ]
  },
  {
   "cell_type": "raw",
   "id": "912341e3",
   "metadata": {},
   "source": [
    "-->India Preference for music and Dance concent.\n",
    "--›US Influence in Gaming and Entertainment.\n",
    "--›Global Appeal of Educational Content:\n",
    "CoConelon, a channel focusing on educational content, garners a substantial audience despite Its origin being unknown. This suggests that educational content transcends geographical boundaries and has universal appeal.\n",
    "--›Entertainment for Children Across Regions:\n",
    "KidsDianaShow, representing an unknown origin, gathers a considerable audience with content focused on animation and toys (\"Animación, Juguetes\"). This indicates a global interest in entertainment content tailored for children."
   ]
  },
  {
   "cell_type": "raw",
   "id": "adc45b7d",
   "metadata": {},
   "source": [
    "#Countries with most no of subscribers"
   ]
  },
  {
   "cell_type": "raw",
   "id": "056a8af2",
   "metadata": {},
   "source": [
    "›India:T-Series: Musica y baile (249.5 million subscribers)\n",
    "-›CoConelon: Educación (165.5 million subscribers)\n",
    "--›United States:MrBeast: Videojuegos, Humor (183.5 million subscribers)"
   ]
  },
  {
   "cell_type": "raw",
   "id": "6a408f6b",
   "metadata": {},
   "source": [
    "#Average number of subscribers, visits, likes, and comments."
   ]
  },
  {
   "cell_type": "raw",
   "id": "83d98d46",
   "metadata": {},
   "source": [
    "Average Subscribers: 21.89 million\n",
    "Average Visits: 1.21 million\n",
    "Average Likes: 53.63 thousand\n",
    "Average Comments:1.29 thousand."
   ]
  },
  {
   "cell_type": "raw",
   "id": "9ff2dbe1",
   "metadata": {},
   "source": [
    "Categories with the Highest Number of Streamers:"
   ]
  },
  {
   "cell_type": "raw",
   "id": "a4b3770d",
   "metadata": {},
   "source": [
    "Música y baile                 160\n",
    "Películas, Animación            61\n",
    "Música y baile, Películas       41\n",
    "Vlogs diarios                   37\n",
    "Noticias y Política             36\n",
    "Animación, Videojuegos          34\n",
    "Películas, Humor                34\n",
    "Animación, Juguetes             29\n",
    "Animación, Humor                27\n",
    "Educación                       24\n",
    "Películas                       24\n",
    "Animación                       22\n",
    "Videojuegos                     19\n",
    "Videojuegos, Humor              17\n",
    "Música y baile, Animación       16\n",
    "Ciencia y tecnología            14"
   ]
  },
  {
   "cell_type": "raw",
   "id": "5cd2a80c",
   "metadata": {},
   "source": [
    "Benchmarking performers"
   ]
  },
  {
   "cell_type": "raw",
   "id": "13e102c9",
   "metadata": {},
   "source": [
    "-›Out of 1000 streamers, 1 streamer has above the average subscriber count.\n",
    "--›Three streamers,\n",
    "namely MCPlayhouse, TheXOteam, and Family-Box, have above-average likes,\n",
    "visits, and comments.\n",
    "--›These streamers not only possess a significant subscriber base but also enjoy higher engagement levels compared to the average, making them potentially valuable collaborators for brand partnerships and marketing campaigns."
   ]
  },
  {
   "cell_type": "raw",
   "id": "1bcef4d4",
   "metadata": {},
   "source": [
    "Outlier values"
   ]
  },
  {
   "cell_type": "raw",
   "id": "60168569",
   "metadata": {},
   "source": [
    "presence of outliers in subscriber counts and visit numbers suggests that certain highly popular channels are experiencing exceptionally high levels of engagement and viewership.\n",
    "These outliers indicate that a select few channels are attracting an unusually large number of subscribers and visits compared to Thehe majority of channels."
   ]
  },
  {
   "cell_type": "raw",
   "id": "920c1f01",
   "metadata": {},
   "source": [
    "**While high subscriber counts can certainly attract brands, other factors like engagement rate, audience demographics, and content alignment with brand values also play crucial roles in determining collaboration opportunities.\n",
    "--›T-Series: 249.5 million\n",
    "MrBeast: 183.5 million\n",
    "CoComelon: 165.5 million\n",
    "SET India: 162.6 million\n",
    "Kids Diana Show: 113.5 million\n",
    "PewDiePie: 111.5 million\n",
    "Like Nastya Official: 107.5 million\n",
    "Vlad and Niki: 101.4 million\n",
    "Zee Music Company: 99.7 million\n",
    "WWE: 97.2 million\n",
    "With these youtube streamers we can promote brands, collaboration with related content field, and also we can do market campaigns."
   ]
  }
 ],
 "metadata": {
  "kernelspec": {
   "display_name": "Python 3 (ipykernel)",
   "language": "python",
   "name": "python3"
  },
  "language_info": {
   "codemirror_mode": {
    "name": "ipython",
    "version": 3
   },
   "file_extension": ".py",
   "mimetype": "text/x-python",
   "name": "python",
   "nbconvert_exporter": "python",
   "pygments_lexer": "ipython3",
   "version": "3.11.5"
  }
 },
 "nbformat": 4,
 "nbformat_minor": 5
}
